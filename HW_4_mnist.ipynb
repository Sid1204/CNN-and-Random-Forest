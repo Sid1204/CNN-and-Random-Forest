{
 "cells": [
  {
   "cell_type": "code",
   "execution_count": 1,
   "id": "c950ddf3",
   "metadata": {},
   "outputs": [],
   "source": [
    "import numpy as np\n",
    "import keras\n",
    "from keras.datasets import mnist\n",
    "from tensorflow.keras.utils import to_categorical\n",
    "import matplotlib.pyplot as plt"
   ]
  },
  {
   "cell_type": "code",
   "execution_count": 2,
   "id": "182f5c8e",
   "metadata": {},
   "outputs": [],
   "source": [
    "(trainX, trainY),(testX, testY) = mnist.load_data( )"
   ]
  },
  {
   "cell_type": "code",
   "execution_count": 3,
   "id": "9bed2c23",
   "metadata": {},
   "outputs": [
    {
     "data": {
      "image/png": "[encoded data removed]",
      "text/plain": [
       "<Figure size 432x288 with 1 Axes>"
      ]
     },
     "metadata": {
      "needs_background": "light"
     },
     "output_type": "display_data"
    }
   ],
   "source": [
    "x = trainX[2]\n",
    "plt.imshow(x)\n",
    "plt.show()"
   ]
  },
  {
   "cell_type": "markdown",
   "id": "ea49eced",
   "metadata": {},
   "source": [
    "# Preprocessing"
   ]
  },
  {
   "cell_type": "code",
   "execution_count": 4,
   "id": "4f96a5a6",
   "metadata": {},
   "outputs": [],
   "source": [
    "def preprocessing(data, labels):\n",
    "    data = np.reshape(data, newshape=(data.shape[0], data.shape[1], data.shape[2], 1))\n",
    "    data = data / 255\n",
    "    data = data.astype(dtype='float64')\n",
    "    \n",
    "    labels = to_categorical(labels, num_classes=10, dtype='float64')\n",
    "    \n",
    "    return data, labels"
   ]
  },
  {
   "cell_type": "code",
   "execution_count": 5,
   "id": "4c1a8226",
   "metadata": {},
   "outputs": [],
   "source": [
    "trainX, trainY = preprocessing(trainX, trainY)\n",
    "testX, testY = preprocessing(testX, testY)"
   ]
  },
  {
   "cell_type": "code",
   "execution_count": 6,
   "id": "f90fb035",
   "metadata": {},
   "outputs": [
    {
     "data": {
      "image/png": "[encoded data removed]",
      "text/plain": [
       "<Figure size 432x288 with 1 Axes>"
      ]
     },
     "metadata": {
      "needs_background": "light"
     },
     "output_type": "display_data"
    }
   ],
   "source": [
    "x = trainX[2]\n",
    "plt.imshow(x)\n",
    "plt.show()"
   ]
  },
  {
   "cell_type": "markdown",
   "id": "5a00e8f0",
   "metadata": {},
   "source": [
    "# Implementation"
   ]
  },
  {
   "cell_type": "code",
   "execution_count": 7,
   "id": "4d1617bb",
   "metadata": {},
   "outputs": [],
   "source": [
    "from keras.models import Sequential\n",
    "from keras.layers import Conv2D\n",
    "from keras.layers import MaxPooling2D\n",
    "from keras.layers import Dense\n",
    "from keras.layers import Dropout\n",
    "from keras.layers import Flatten\n",
    "from tensorflow.keras.optimizers import SGD"
   ]
  },
  {
   "cell_type": "code",
   "execution_count": 8,
   "id": "1cf7f012",
   "metadata": {},
   "outputs": [],
   "source": [
    "def create_cnn(learning_rate=0.01):\n",
    "    model = Sequential()\n",
    "    model.add(Conv2D(32,(3,3), activation='relu', kernel_initializer='he_uniform', input_shape=(28,28,1)))\n",
    "    model.add(MaxPooling2D((2,2)))\n",
    "    model.add(Flatten())        \n",
    "    model.add(Dense(100, activation='relu', kernel_initializer='he_uniform'))\n",
    "    model.add(Dense(10,activation='softmax'))\n",
    "    opt = SGD(lr=learning_rate, momentum=0.9)\n",
    "    \n",
    "    model.compile(optimizer=opt, loss='categorical_crossentropy', metrics=['accuracy'])\n",
    "    \n",
    "    return model"
   ]
  },
  {
   "cell_type": "code",
   "execution_count": 10,
   "id": "47f14f9c",
   "metadata": {},
   "outputs": [
    {
     "name": "stderr",
     "output_type": "stream",
     "text": [
      "C:\\Users\\sidar\\AppData\\Local\\Programs\\Python\\Python39\\lib\\site-packages\\keras\\optimizer_v2\\optimizer_v2.py:355: UserWarning: The `lr` argument is deprecated, use `learning_rate` instead.\n",
      "  warnings.warn(\n"
     ]
    }
   ],
   "source": [
    "cnn = create_cnn()"
   ]
  },
  {
   "cell_type": "code",
   "execution_count": 11,
   "id": "f598e935",
   "metadata": {},
   "outputs": [
    {
     "data": {
      "text/plain": [
       "[<keras.layers.convolutional.Conv2D at 0x21c2c291a30>,\n",
       " <keras.layers.pooling.MaxPooling2D at 0x21c2d532880>,\n",
       " <keras.layers.core.Flatten at 0x21c2d532ca0>,\n",
       " <keras.layers.core.Dense at 0x21c2d5f4040>,\n",
       " <keras.layers.core.Dense at 0x21bfd3bf6a0>]"
      ]
     },
     "execution_count": 11,
     "metadata": {},
     "output_type": "execute_result"
    }
   ],
   "source": [
    "cnn.layers"
   ]
  },
  {
   "cell_type": "code",
   "execution_count": 12,
   "id": "753569d2",
   "metadata": {},
   "outputs": [
    {
     "name": "stdout",
     "output_type": "stream",
     "text": [
      "Epoch 1/10\n",
      "1688/1688 [==============================] - 13s 8ms/step - loss: 0.1777 - accuracy: 0.9454 - val_loss: 0.0639 - val_accuracy: 0.9817\n",
      "Epoch 2/10\n",
      "1688/1688 [==============================] - 12s 7ms/step - loss: 0.0610 - accuracy: 0.9817 - val_loss: 0.0524 - val_accuracy: 0.9860\n",
      "Epoch 3/10\n",
      "1688/1688 [==============================] - 12s 7ms/step - loss: 0.0389 - accuracy: 0.9886 - val_loss: 0.0559 - val_accuracy: 0.9852\n",
      "Epoch 4/10\n",
      "1688/1688 [==============================] - 12s 7ms/step - loss: 0.0272 - accuracy: 0.9918 - val_loss: 0.0475 - val_accuracy: 0.9880\n",
      "Epoch 5/10\n",
      "1688/1688 [==============================] - 12s 7ms/step - loss: 0.0181 - accuracy: 0.9948 - val_loss: 0.0470 - val_accuracy: 0.9878\n",
      "Epoch 6/10\n",
      "1688/1688 [==============================] - 13s 7ms/step - loss: 0.0123 - accuracy: 0.9964 - val_loss: 0.0488 - val_accuracy: 0.9878\n",
      "Epoch 7/10\n",
      "1688/1688 [==============================] - 12s 7ms/step - loss: 0.0080 - accuracy: 0.9981 - val_loss: 0.0512 - val_accuracy: 0.9875\n",
      "Epoch 8/10\n",
      "1688/1688 [==============================] - 12s 7ms/step - loss: 0.0053 - accuracy: 0.9989 - val_loss: 0.0511 - val_accuracy: 0.9875\n",
      "Epoch 9/10\n",
      "1688/1688 [==============================] - 12s 7ms/step - loss: 0.0037 - accuracy: 0.9994 - val_loss: 0.0525 - val_accuracy: 0.9880\n",
      "Epoch 10/10\n",
      "1688/1688 [==============================] - 12s 7ms/step - loss: 0.0026 - accuracy: 0.9997 - val_loss: 0.0529 - val_accuracy: 0.9893\n"
     ]
    },
    {
     "data": {
      "text/plain": [
       "<keras.callbacks.History at 0x1ca2f1fb070>"
      ]
     },
     "execution_count": 12,
     "metadata": {},
     "output_type": "execute_result"
    }
   ],
   "source": [
    "cnn.fit(trainX, trainY, batch_size=32, epochs=10, validation_split=0.1)"
   ]
  },
  {
   "cell_type": "code",
   "execution_count": 13,
   "id": "8a779127",
   "metadata": {},
   "outputs": [
    {
     "name": "stdout",
     "output_type": "stream",
     "text": [
      "[0.04158346354961395, 0.988099992275238]\n"
     ]
    }
   ],
   "source": [
    "score = cnn.evaluate(testX, testY, verbose=0)\n",
    "print(score)"
   ]
  },
  {
   "cell_type": "markdown",
   "id": "e0738e1f",
   "metadata": {},
   "source": [
    "# Experimentation"
   ]
  },
  {
   "cell_type": "code",
   "execution_count": 93,
   "id": "d7459daf",
   "metadata": {
    "scrolled": false
   },
   "outputs": [
    {
     "name": "stdout",
     "output_type": "stream",
     "text": [
      "Epoch 1/50\n",
      "1688/1688 [==============================] - 13s 8ms/step - loss: 0.0016 - accuracy: 0.9998 - val_loss: 0.0502 - val_accuracy: 0.9893\n",
      "Epoch 2/50\n",
      "1688/1688 [==============================] - 13s 8ms/step - loss: 0.0012 - accuracy: 0.9999 - val_loss: 0.0523 - val_accuracy: 0.9895\n",
      "Epoch 3/50\n",
      "1688/1688 [==============================] - 13s 8ms/step - loss: 8.2430e-04 - accuracy: 1.0000 - val_loss: 0.0546 - val_accuracy: 0.9890\n",
      "Epoch 4/50\n",
      "1688/1688 [==============================] - 13s 8ms/step - loss: 6.4579e-04 - accuracy: 1.0000 - val_loss: 0.0547 - val_accuracy: 0.9897\n",
      "Epoch 5/50\n",
      "1688/1688 [==============================] - 13s 8ms/step - loss: 5.4154e-04 - accuracy: 1.0000 - val_loss: 0.0549 - val_accuracy: 0.9892\n",
      "Epoch 6/50\n",
      "1688/1688 [==============================] - 13s 8ms/step - loss: 4.5755e-04 - accuracy: 1.0000 - val_loss: 0.0560 - val_accuracy: 0.9893\n",
      "Epoch 7/50\n",
      "1688/1688 [==============================] - 12s 7ms/step - loss: 4.0050e-04 - accuracy: 1.0000 - val_loss: 0.0566 - val_accuracy: 0.9895\n",
      "Epoch 8/50\n",
      "1688/1688 [==============================] - 12s 7ms/step - loss: 3.6020e-04 - accuracy: 1.0000 - val_loss: 0.0565 - val_accuracy: 0.9893\n",
      "Epoch 9/50\n",
      "1688/1688 [==============================] - 12s 7ms/step - loss: 3.2044e-04 - accuracy: 1.0000 - val_loss: 0.0582 - val_accuracy: 0.9890\n",
      "Epoch 10/50\n",
      "1688/1688 [==============================] - 12s 7ms/step - loss: 2.9658e-04 - accuracy: 1.0000 - val_loss: 0.0590 - val_accuracy: 0.9890\n",
      "Epoch 11/50\n",
      "1688/1688 [==============================] - 12s 7ms/step - loss: 2.7511e-04 - accuracy: 1.0000 - val_loss: 0.0587 - val_accuracy: 0.9892\n",
      "Epoch 12/50\n",
      "1688/1688 [==============================] - 12s 7ms/step - loss: 2.5501e-04 - accuracy: 1.0000 - val_loss: 0.0606 - val_accuracy: 0.9887\n",
      "Epoch 13/50\n",
      "1688/1688 [==============================] - 12s 7ms/step - loss: 2.3791e-04 - accuracy: 1.0000 - val_loss: 0.0602 - val_accuracy: 0.9892\n",
      "Epoch 14/50\n",
      "1688/1688 [==============================] - 12s 7ms/step - loss: 2.2201e-04 - accuracy: 1.0000 - val_loss: 0.0604 - val_accuracy: 0.9892\n",
      "Epoch 15/50\n",
      "1688/1688 [==============================] - 12s 7ms/step - loss: 2.1050e-04 - accuracy: 1.0000 - val_loss: 0.0605 - val_accuracy: 0.9892\n",
      "Epoch 16/50\n",
      "1688/1688 [==============================] - 12s 7ms/step - loss: 1.9868e-04 - accuracy: 1.0000 - val_loss: 0.0614 - val_accuracy: 0.9890\n",
      "Epoch 17/50\n",
      "1688/1688 [==============================] - 12s 7ms/step - loss: 1.8680e-04 - accuracy: 1.0000 - val_loss: 0.0613 - val_accuracy: 0.9892\n",
      "Epoch 18/50\n",
      "1688/1688 [==============================] - 12s 7ms/step - loss: 1.7986e-04 - accuracy: 1.0000 - val_loss: 0.0617 - val_accuracy: 0.9890\n",
      "Epoch 19/50\n",
      "1688/1688 [==============================] - 12s 7ms/step - loss: 1.6921e-04 - accuracy: 1.0000 - val_loss: 0.0617 - val_accuracy: 0.9893\n",
      "Epoch 20/50\n",
      "1688/1688 [==============================] - 12s 7ms/step - loss: 1.6157e-04 - accuracy: 1.0000 - val_loss: 0.0627 - val_accuracy: 0.9892\n",
      "Epoch 21/50\n",
      "1688/1688 [==============================] - 12s 7ms/step - loss: 1.5641e-04 - accuracy: 1.0000 - val_loss: 0.0629 - val_accuracy: 0.9890\n",
      "Epoch 22/50\n",
      "1688/1688 [==============================] - 12s 7ms/step - loss: 1.4801e-04 - accuracy: 1.0000 - val_loss: 0.0633 - val_accuracy: 0.9888\n",
      "Epoch 23/50\n",
      "1688/1688 [==============================] - 12s 7ms/step - loss: 1.4329e-04 - accuracy: 1.0000 - val_loss: 0.0629 - val_accuracy: 0.9890\n",
      "Epoch 24/50\n",
      "1688/1688 [==============================] - 12s 7ms/step - loss: 1.3731e-04 - accuracy: 1.0000 - val_loss: 0.0631 - val_accuracy: 0.9888\n",
      "Epoch 25/50\n",
      "1688/1688 [==============================] - 12s 7ms/step - loss: 1.3169e-04 - accuracy: 1.0000 - val_loss: 0.0641 - val_accuracy: 0.9890\n",
      "Epoch 26/50\n",
      "1688/1688 [==============================] - 12s 7ms/step - loss: 1.2641e-04 - accuracy: 1.0000 - val_loss: 0.0641 - val_accuracy: 0.9892\n",
      "Epoch 27/50\n",
      "1688/1688 [==============================] - 12s 7ms/step - loss: 1.2302e-04 - accuracy: 1.0000 - val_loss: 0.0642 - val_accuracy: 0.9890\n",
      "Epoch 28/50\n",
      "1688/1688 [==============================] - 12s 7ms/step - loss: 1.1828e-04 - accuracy: 1.0000 - val_loss: 0.0646 - val_accuracy: 0.9890\n",
      "Epoch 29/50\n",
      "1688/1688 [==============================] - 12s 7ms/step - loss: 1.1379e-04 - accuracy: 1.0000 - val_loss: 0.0643 - val_accuracy: 0.9890\n",
      "Epoch 30/50\n",
      "1688/1688 [==============================] - 12s 7ms/step - loss: 1.1079e-04 - accuracy: 1.0000 - val_loss: 0.0650 - val_accuracy: 0.9888\n",
      "Epoch 31/50\n",
      "1688/1688 [==============================] - 12s 7ms/step - loss: 1.0625e-04 - accuracy: 1.0000 - val_loss: 0.0653 - val_accuracy: 0.9890\n",
      "Epoch 32/50\n",
      "1688/1688 [==============================] - 12s 7ms/step - loss: 1.0343e-04 - accuracy: 1.0000 - val_loss: 0.0657 - val_accuracy: 0.9888\n",
      "Epoch 33/50\n",
      "1688/1688 [==============================] - 12s 7ms/step - loss: 1.0060e-04 - accuracy: 1.0000 - val_loss: 0.0660 - val_accuracy: 0.9890\n",
      "Epoch 34/50\n",
      "1688/1688 [==============================] - 12s 7ms/step - loss: 9.7359e-05 - accuracy: 1.0000 - val_loss: 0.0662 - val_accuracy: 0.9890\n",
      "Epoch 35/50\n",
      "1688/1688 [==============================] - 12s 7ms/step - loss: 9.4678e-05 - accuracy: 1.0000 - val_loss: 0.0665 - val_accuracy: 0.9890\n",
      "Epoch 36/50\n",
      "1688/1688 [==============================] - 12s 7ms/step - loss: 9.2157e-05 - accuracy: 1.0000 - val_loss: 0.0662 - val_accuracy: 0.9892\n",
      "Epoch 37/50\n",
      "1688/1688 [==============================] - 12s 7ms/step - loss: 8.9538e-05 - accuracy: 1.0000 - val_loss: 0.0669 - val_accuracy: 0.9888\n",
      "Epoch 38/50\n",
      "1688/1688 [==============================] - 12s 7ms/step - loss: 8.7372e-05 - accuracy: 1.0000 - val_loss: 0.0671 - val_accuracy: 0.9888\n",
      "Epoch 39/50\n",
      "1688/1688 [==============================] - 12s 7ms/step - loss: 8.4737e-05 - accuracy: 1.0000 - val_loss: 0.0667 - val_accuracy: 0.9892\n",
      "Epoch 40/50\n",
      "1688/1688 [==============================] - 12s 7ms/step - loss: 8.2642e-05 - accuracy: 1.0000 - val_loss: 0.0671 - val_accuracy: 0.9890\n",
      "Epoch 41/50\n",
      "1688/1688 [==============================] - 12s 7ms/step - loss: 8.0612e-05 - accuracy: 1.0000 - val_loss: 0.0673 - val_accuracy: 0.9888\n",
      "Epoch 42/50\n",
      "1688/1688 [==============================] - 12s 7ms/step - loss: 7.8473e-05 - accuracy: 1.0000 - val_loss: 0.0677 - val_accuracy: 0.9888\n",
      "Epoch 43/50\n",
      "1688/1688 [==============================] - 12s 7ms/step - loss: 7.6682e-05 - accuracy: 1.0000 - val_loss: 0.0679 - val_accuracy: 0.9887\n",
      "Epoch 44/50\n",
      "1688/1688 [==============================] - 12s 7ms/step - loss: 7.5278e-05 - accuracy: 1.0000 - val_loss: 0.0683 - val_accuracy: 0.9890\n",
      "Epoch 45/50\n",
      "1688/1688 [==============================] - 12s 7ms/step - loss: 7.3418e-05 - accuracy: 1.0000 - val_loss: 0.0680 - val_accuracy: 0.9893\n",
      "Epoch 46/50\n",
      "1688/1688 [==============================] - 12s 7ms/step - loss: 7.1732e-05 - accuracy: 1.0000 - val_loss: 0.0685 - val_accuracy: 0.9887\n",
      "Epoch 47/50\n",
      "1688/1688 [==============================] - 12s 7ms/step - loss: 7.0046e-05 - accuracy: 1.0000 - val_loss: 0.0683 - val_accuracy: 0.9892\n",
      "Epoch 48/50\n",
      "1688/1688 [==============================] - 12s 7ms/step - loss: 6.8504e-05 - accuracy: 1.0000 - val_loss: 0.0685 - val_accuracy: 0.9890\n",
      "Epoch 49/50\n",
      "1688/1688 [==============================] - 12s 7ms/step - loss: 6.7054e-05 - accuracy: 1.0000 - val_loss: 0.0688 - val_accuracy: 0.9888\n",
      "Epoch 50/50\n",
      "1688/1688 [==============================] - 12s 7ms/step - loss: 6.5691e-05 - accuracy: 1.0000 - val_loss: 0.0686 - val_accuracy: 0.9892\n"
     ]
    }
   ],
   "source": [
    "epoch_history = cnn.fit(trainX, trainY, batch_size=32, epochs=50, validation_split=0.1)"
   ]
  },
  {
   "cell_type": "code",
   "execution_count": 97,
   "id": "a0a7f8e9",
   "metadata": {},
   "outputs": [],
   "source": [
    "def display(history):\n",
    "    train_accuracy = history.history['accuracy']\n",
    "    train_loss = history.history['loss']\n",
    "    val_accuracy = history.history['val_accuracy']\n",
    "    val_loss = history.history['val_loss']\n",
    "    x_values = list(range(0,len(train_accuracy)))\n",
    "    \n",
    "    plt.plot(x_values, train_accuracy, 'b-', label='Training Accuracy')\n",
    "    plt.plot(x_values, val_accuracy, 'g-', label='Validation Accuracy')\n",
    "    plt.xlabel('Epoch')\n",
    "    plt.ylabel('Accuracy')\n",
    "    plt.legend()\n",
    "    plt.show()\n",
    "    \n",
    "    plt.plot(x_values, train_loss, 'b-', label='Training Loss')\n",
    "    plt.plot(x_values, val_loss,'g-', label='Validation Loss')\n",
    "    plt.xlabel('Epoch')\n",
    "    plt.ylabel('Loss' )\n",
    "    plt.legend()\n",
    "    plt.show()"
   ]
  },
  {
   "cell_type": "code",
   "execution_count": 98,
   "id": "d67739f2",
   "metadata": {},
   "outputs": [
    {
     "data": {
      "image/png": "[encoded data removed]",
      "text/plain": [
       "<Figure size 432x288 with 1 Axes>"
      ]
     },
     "metadata": {
      "needs_background": "light"
     },
     "output_type": "display_data"
    },
    {
     "data": {
      "image/png": "[encoded data removed]",
      "text/plain": [
       "<Figure size 432x288 with 1 Axes>"
      ]
     },
     "metadata": {
      "needs_background": "light"
     },
     "output_type": "display_data"
    }
   ],
   "source": [
    "display(epoch_history)"
   ]
  },
  {
   "cell_type": "code",
   "execution_count": 103,
   "id": "b8e706e1",
   "metadata": {},
   "outputs": [],
   "source": [
    "def create_cnn_dropout(learning_rate=0.01):\n",
    "    model = Sequential()\n",
    "    model.add(Conv2D(32,(3,3), activation='relu', kernel_initializer='he_uniform', input_shape=(28,28,1)))\n",
    "    model.add(MaxPooling2D((2,2)))\n",
    "    model.add(Flatten())\n",
    "\n",
    "    model.add(Dropout(0.5))\n",
    "        \n",
    "    model.add(Dense(100, activation='relu', kernel_initializer='he_uniform'))\n",
    "    model.add(Dense(10,activation='softmax'))\n",
    "    opt = SGD(lr=learning_rate, momentum=0.9)\n",
    "    \n",
    "    model.compile(optimizer=opt, loss='categorical_crossentropy', metrics=['accuracy'])\n",
    "    \n",
    "    return model"
   ]
  },
  {
   "cell_type": "code",
   "execution_count": 104,
   "id": "c8da7f6d",
   "metadata": {},
   "outputs": [],
   "source": [
    "cnn_dropout = create_cnn_dropout()"
   ]
  },
  {
   "cell_type": "code",
   "execution_count": 105,
   "id": "82d39544",
   "metadata": {
    "scrolled": false
   },
   "outputs": [
    {
     "name": "stdout",
     "output_type": "stream",
     "text": [
      "Epoch 1/50\n",
      "1688/1688 [==============================] - 14s 8ms/step - loss: 0.2241 - accuracy: 0.9300 - val_loss: 0.0708 - val_accuracy: 0.9802\n",
      "Epoch 2/50\n",
      "1688/1688 [==============================] - 13s 8ms/step - loss: 0.0890 - accuracy: 0.9727 - val_loss: 0.0459 - val_accuracy: 0.9883\n",
      "Epoch 3/50\n",
      "1688/1688 [==============================] - 13s 8ms/step - loss: 0.0656 - accuracy: 0.9797 - val_loss: 0.0446 - val_accuracy: 0.9870\n",
      "Epoch 4/50\n",
      "1688/1688 [==============================] - 13s 8ms/step - loss: 0.0541 - accuracy: 0.9826 - val_loss: 0.0439 - val_accuracy: 0.9888\n",
      "Epoch 5/50\n",
      "1688/1688 [==============================] - 14s 8ms/step - loss: 0.0454 - accuracy: 0.9852 - val_loss: 0.0398 - val_accuracy: 0.9882\n",
      "Epoch 6/50\n",
      "1688/1688 [==============================] - 14s 9ms/step - loss: 0.0401 - accuracy: 0.9868 - val_loss: 0.0412 - val_accuracy: 0.9895\n",
      "Epoch 7/50\n",
      "1688/1688 [==============================] - 13s 8ms/step - loss: 0.0323 - accuracy: 0.9892 - val_loss: 0.0371 - val_accuracy: 0.9900\n",
      "Epoch 8/50\n",
      "1688/1688 [==============================] - 13s 8ms/step - loss: 0.0299 - accuracy: 0.9904 - val_loss: 0.0366 - val_accuracy: 0.9913\n",
      "Epoch 9/50\n",
      "1688/1688 [==============================] - 13s 8ms/step - loss: 0.0262 - accuracy: 0.9914 - val_loss: 0.0371 - val_accuracy: 0.9915\n",
      "Epoch 10/50\n",
      "1688/1688 [==============================] - 13s 8ms/step - loss: 0.0244 - accuracy: 0.9919 - val_loss: 0.0384 - val_accuracy: 0.9905\n",
      "Epoch 11/50\n",
      "1688/1688 [==============================] - 13s 8ms/step - loss: 0.0212 - accuracy: 0.9927 - val_loss: 0.0392 - val_accuracy: 0.9900\n",
      "Epoch 12/50\n",
      "1688/1688 [==============================] - 13s 8ms/step - loss: 0.0201 - accuracy: 0.9932 - val_loss: 0.0375 - val_accuracy: 0.9898\n",
      "Epoch 13/50\n",
      "1688/1688 [==============================] - 13s 8ms/step - loss: 0.0187 - accuracy: 0.9933 - val_loss: 0.0415 - val_accuracy: 0.9907\n",
      "Epoch 14/50\n",
      "1688/1688 [==============================] - 13s 8ms/step - loss: 0.0171 - accuracy: 0.9944 - val_loss: 0.0354 - val_accuracy: 0.9908\n",
      "Epoch 15/50\n",
      "1688/1688 [==============================] - 13s 8ms/step - loss: 0.0152 - accuracy: 0.9948 - val_loss: 0.0381 - val_accuracy: 0.9910\n",
      "Epoch 16/50\n",
      "1688/1688 [==============================] - 13s 8ms/step - loss: 0.0153 - accuracy: 0.9950 - val_loss: 0.0377 - val_accuracy: 0.9907\n",
      "Epoch 17/50\n",
      "1688/1688 [==============================] - 13s 8ms/step - loss: 0.0127 - accuracy: 0.9955 - val_loss: 0.0366 - val_accuracy: 0.9908\n",
      "Epoch 18/50\n",
      "1688/1688 [==============================] - 13s 8ms/step - loss: 0.0127 - accuracy: 0.9956 - val_loss: 0.0386 - val_accuracy: 0.9917\n",
      "Epoch 19/50\n",
      "1688/1688 [==============================] - 13s 8ms/step - loss: 0.0123 - accuracy: 0.9957 - val_loss: 0.0405 - val_accuracy: 0.9905\n",
      "Epoch 20/50\n",
      "1688/1688 [==============================] - 13s 8ms/step - loss: 0.0130 - accuracy: 0.9956 - val_loss: 0.0445 - val_accuracy: 0.9898\n",
      "Epoch 21/50\n",
      "1688/1688 [==============================] - 13s 8ms/step - loss: 0.0126 - accuracy: 0.9959 - val_loss: 0.0454 - val_accuracy: 0.9905\n",
      "Epoch 22/50\n",
      "1688/1688 [==============================] - 13s 8ms/step - loss: 0.0111 - accuracy: 0.9964 - val_loss: 0.0407 - val_accuracy: 0.9908\n",
      "Epoch 23/50\n",
      "1688/1688 [==============================] - 13s 8ms/step - loss: 0.0097 - accuracy: 0.9966 - val_loss: 0.0394 - val_accuracy: 0.9912\n",
      "Epoch 24/50\n",
      "1688/1688 [==============================] - 13s 8ms/step - loss: 0.0099 - accuracy: 0.9967 - val_loss: 0.0396 - val_accuracy: 0.9908\n",
      "Epoch 25/50\n",
      "1688/1688 [==============================] - 13s 8ms/step - loss: 0.0097 - accuracy: 0.9966 - val_loss: 0.0408 - val_accuracy: 0.9913\n",
      "Epoch 26/50\n",
      "1688/1688 [==============================] - 13s 8ms/step - loss: 0.0083 - accuracy: 0.9972 - val_loss: 0.0426 - val_accuracy: 0.9908\n",
      "Epoch 27/50\n",
      "1688/1688 [==============================] - 13s 8ms/step - loss: 0.0085 - accuracy: 0.9971 - val_loss: 0.0418 - val_accuracy: 0.9910\n",
      "Epoch 28/50\n",
      "1688/1688 [==============================] - 13s 8ms/step - loss: 0.0087 - accuracy: 0.9969 - val_loss: 0.0450 - val_accuracy: 0.9905\n",
      "Epoch 29/50\n",
      "1688/1688 [==============================] - 14s 8ms/step - loss: 0.0077 - accuracy: 0.9972 - val_loss: 0.0481 - val_accuracy: 0.9903\n",
      "Epoch 30/50\n",
      "1688/1688 [==============================] - 13s 8ms/step - loss: 0.0081 - accuracy: 0.9972 - val_loss: 0.0468 - val_accuracy: 0.9908\n",
      "Epoch 31/50\n",
      "1688/1688 [==============================] - 13s 8ms/step - loss: 0.0073 - accuracy: 0.9974 - val_loss: 0.0433 - val_accuracy: 0.9910\n",
      "Epoch 32/50\n",
      "1688/1688 [==============================] - 13s 8ms/step - loss: 0.0078 - accuracy: 0.9974 - val_loss: 0.0403 - val_accuracy: 0.9910\n",
      "Epoch 33/50\n",
      "1688/1688 [==============================] - 13s 8ms/step - loss: 0.0077 - accuracy: 0.9974 - val_loss: 0.0431 - val_accuracy: 0.9905\n",
      "Epoch 34/50\n",
      "1688/1688 [==============================] - 13s 8ms/step - loss: 0.0069 - accuracy: 0.9977 - val_loss: 0.0493 - val_accuracy: 0.9893\n",
      "Epoch 35/50\n",
      "1688/1688 [==============================] - 13s 8ms/step - loss: 0.0065 - accuracy: 0.9979 - val_loss: 0.0417 - val_accuracy: 0.9920\n",
      "Epoch 36/50\n",
      "1688/1688 [==============================] - 13s 8ms/step - loss: 0.0055 - accuracy: 0.9980 - val_loss: 0.0420 - val_accuracy: 0.9913\n",
      "Epoch 37/50\n",
      "1688/1688 [==============================] - 13s 8ms/step - loss: 0.0064 - accuracy: 0.9979 - val_loss: 0.0426 - val_accuracy: 0.9922\n",
      "Epoch 38/50\n",
      "1688/1688 [==============================] - 13s 8ms/step - loss: 0.0062 - accuracy: 0.9979 - val_loss: 0.0450 - val_accuracy: 0.9917\n",
      "Epoch 39/50\n",
      "1688/1688 [==============================] - 13s 8ms/step - loss: 0.0065 - accuracy: 0.9976 - val_loss: 0.0446 - val_accuracy: 0.9917\n",
      "Epoch 40/50\n",
      "1688/1688 [==============================] - 13s 8ms/step - loss: 0.0063 - accuracy: 0.9979 - val_loss: 0.0437 - val_accuracy: 0.9908\n",
      "Epoch 41/50\n",
      "1688/1688 [==============================] - 13s 8ms/step - loss: 0.0054 - accuracy: 0.9982 - val_loss: 0.0439 - val_accuracy: 0.9915\n",
      "Epoch 42/50\n",
      "1688/1688 [==============================] - 13s 8ms/step - loss: 0.0053 - accuracy: 0.9982 - val_loss: 0.0463 - val_accuracy: 0.9908\n",
      "Epoch 43/50\n",
      "1688/1688 [==============================] - 13s 8ms/step - loss: 0.0056 - accuracy: 0.9982 - val_loss: 0.0487 - val_accuracy: 0.9910\n",
      "Epoch 44/50\n",
      "1688/1688 [==============================] - 13s 8ms/step - loss: 0.0061 - accuracy: 0.9980 - val_loss: 0.0502 - val_accuracy: 0.9902\n",
      "Epoch 45/50\n",
      "1688/1688 [==============================] - 13s 8ms/step - loss: 0.0052 - accuracy: 0.9983 - val_loss: 0.0438 - val_accuracy: 0.9917\n",
      "Epoch 46/50\n",
      "1688/1688 [==============================] - 14s 8ms/step - loss: 0.0045 - accuracy: 0.9984 - val_loss: 0.0460 - val_accuracy: 0.9910\n",
      "Epoch 47/50\n",
      "1688/1688 [==============================] - 13s 8ms/step - loss: 0.0056 - accuracy: 0.9981 - val_loss: 0.0475 - val_accuracy: 0.9915\n",
      "Epoch 48/50\n",
      "1688/1688 [==============================] - 13s 8ms/step - loss: 0.0044 - accuracy: 0.9985 - val_loss: 0.0450 - val_accuracy: 0.9905\n",
      "Epoch 49/50\n",
      "1688/1688 [==============================] - 14s 8ms/step - loss: 0.0049 - accuracy: 0.9985 - val_loss: 0.0457 - val_accuracy: 0.9915\n",
      "Epoch 50/50\n",
      "1688/1688 [==============================] - 14s 8ms/step - loss: 0.0051 - accuracy: 0.9982 - val_loss: 0.0491 - val_accuracy: 0.9915\n"
     ]
    }
   ],
   "source": [
    "epoch_history_dropout = cnn_dropout.fit(trainX, trainY, batch_size=32, epochs=50, validation_split=0.1)"
   ]
  },
  {
   "cell_type": "code",
   "execution_count": 106,
   "id": "246a5b30",
   "metadata": {},
   "outputs": [
    {
     "data": {
      "image/png": "[encoded data removed]",
      "text/plain": [
       "<Figure size 432x288 with 1 Axes>"
      ]
     },
     "metadata": {
      "needs_background": "light"
     },
     "output_type": "display_data"
    },
    {
     "data": {
      "image/png": "[encoded data removed]",
      "text/plain": [
       "<Figure size 432x288 with 1 Axes>"
      ]
     },
     "metadata": {
      "needs_background": "light"
     },
     "output_type": "display_data"
    }
   ],
   "source": [
    "display(epoch_history_dropout)"
   ]
  },
  {
   "cell_type": "code",
   "execution_count": 110,
   "id": "84b0ec25",
   "metadata": {},
   "outputs": [],
   "source": [
    "def create_cnn_add(learning_rate=0.01):\n",
    "    model = Sequential()\n",
    "    model.add(Conv2D(32,(3,3), activation='relu', kernel_initializer='he_uniform', input_shape=(28,28,1)))\n",
    "    model.add(MaxPooling2D((2,2)))\n",
    "    model.add(Conv2D(64,(3,3), activation='relu', kernel_initializer='he_uniform', input_shape=(28,28,1)))\n",
    "    model.add(MaxPooling2D((2,2)))\n",
    "    model.add(Flatten())        \n",
    "    model.add(Dense(100, activation='relu', kernel_initializer='he_uniform'))\n",
    "    model.add(Dense(10,activation='softmax'))\n",
    "    opt = SGD(lr=learning_rate, momentum=0.9)\n",
    "    \n",
    "    model.compile(optimizer=opt, loss='categorical_crossentropy', metrics=['accuracy'])\n",
    "    \n",
    "    return model"
   ]
  },
  {
   "cell_type": "code",
   "execution_count": 111,
   "id": "7a9e2255",
   "metadata": {},
   "outputs": [],
   "source": [
    "cnn_add = create_cnn_add()"
   ]
  },
  {
   "cell_type": "code",
   "execution_count": 112,
   "id": "0188f461",
   "metadata": {},
   "outputs": [
    {
     "name": "stdout",
     "output_type": "stream",
     "text": [
      "Epoch 1/10\n",
      "1688/1688 [==============================] - 16s 9ms/step - loss: 0.1418 - accuracy: 0.9554 - val_loss: 0.0546 - val_accuracy: 0.9845\n",
      "Epoch 2/10\n",
      "1688/1688 [==============================] - 15s 9ms/step - loss: 0.0474 - accuracy: 0.9853 - val_loss: 0.0431 - val_accuracy: 0.9873\n",
      "Epoch 3/10\n",
      "1688/1688 [==============================] - 15s 9ms/step - loss: 0.0314 - accuracy: 0.9898 - val_loss: 0.0392 - val_accuracy: 0.9882\n",
      "Epoch 4/10\n",
      "1688/1688 [==============================] - 14s 9ms/step - loss: 0.0235 - accuracy: 0.9925 - val_loss: 0.0329 - val_accuracy: 0.9913\n",
      "Epoch 5/10\n",
      "1688/1688 [==============================] - 16s 10ms/step - loss: 0.0175 - accuracy: 0.9943 - val_loss: 0.0323 - val_accuracy: 0.9918\n",
      "Epoch 6/10\n",
      "1688/1688 [==============================] - 16s 9ms/step - loss: 0.0126 - accuracy: 0.9956 - val_loss: 0.0321 - val_accuracy: 0.9920\n",
      "Epoch 7/10\n",
      "1688/1688 [==============================] - 16s 9ms/step - loss: 0.0095 - accuracy: 0.9969 - val_loss: 0.0349 - val_accuracy: 0.9908\n",
      "Epoch 8/10\n",
      "1688/1688 [==============================] - 16s 9ms/step - loss: 0.0068 - accuracy: 0.9978 - val_loss: 0.0533 - val_accuracy: 0.9890\n",
      "Epoch 9/10\n",
      "1688/1688 [==============================] - 16s 9ms/step - loss: 0.0042 - accuracy: 0.9987 - val_loss: 0.0346 - val_accuracy: 0.9928\n",
      "Epoch 10/10\n",
      "1688/1688 [==============================] - 16s 9ms/step - loss: 0.0038 - accuracy: 0.9988 - val_loss: 0.0346 - val_accuracy: 0.9928\n"
     ]
    }
   ],
   "source": [
    "cnn_add.fit(trainX, trainY, batch_size=32, epochs=10, validation_split=0.1)"
   ]
  },
  {
   "cell_type": "code",
   "execution_count": 113,
   "id": "2bd9df12",
   "metadata": {},
   "outputs": [
    {
     "name": "stdout",
     "output_type": "stream",
     "text": [
      "[0.027527863159775734, 0.9915000200271606]\n"
     ]
    }
   ],
   "source": [
    "score = cnn_add.evaluate(testX, testY, verbose=0)\n",
    "print(score)"
   ]
  },
  {
   "cell_type": "code",
   "execution_count": 114,
   "id": "f8653776",
   "metadata": {},
   "outputs": [],
   "source": [
    "cnn_low = create_cnn_add(learning_rate=0.001)"
   ]
  },
  {
   "cell_type": "code",
   "execution_count": 115,
   "id": "5a9e8754",
   "metadata": {},
   "outputs": [
    {
     "name": "stdout",
     "output_type": "stream",
     "text": [
      "Epoch 1/10\n",
      "1688/1688 [==============================] - 16s 9ms/step - loss: 0.2822 - accuracy: 0.9162 - val_loss: 0.1076 - val_accuracy: 0.9730\n",
      "Epoch 2/10\n",
      "1688/1688 [==============================] - 15s 9ms/step - loss: 0.1045 - accuracy: 0.9690 - val_loss: 0.0691 - val_accuracy: 0.9822\n",
      "Epoch 3/10\n",
      "1688/1688 [==============================] - 15s 9ms/step - loss: 0.0744 - accuracy: 0.9771 - val_loss: 0.0564 - val_accuracy: 0.9847\n",
      "Epoch 4/10\n",
      "1688/1688 [==============================] - 16s 9ms/step - loss: 0.0613 - accuracy: 0.9812 - val_loss: 0.0529 - val_accuracy: 0.9863\n",
      "Epoch 5/10\n",
      "1688/1688 [==============================] - 15s 9ms/step - loss: 0.0522 - accuracy: 0.9846 - val_loss: 0.0483 - val_accuracy: 0.9872\n",
      "Epoch 6/10\n",
      "1688/1688 [==============================] - 15s 9ms/step - loss: 0.0459 - accuracy: 0.9862 - val_loss: 0.0535 - val_accuracy: 0.9848\n",
      "Epoch 7/10\n",
      "1688/1688 [==============================] - 15s 9ms/step - loss: 0.0410 - accuracy: 0.9876 - val_loss: 0.0470 - val_accuracy: 0.9875\n",
      "Epoch 8/10\n",
      "1688/1688 [==============================] - 15s 9ms/step - loss: 0.0374 - accuracy: 0.9887 - val_loss: 0.0506 - val_accuracy: 0.9865\n",
      "Epoch 9/10\n",
      "1688/1688 [==============================] - 15s 9ms/step - loss: 0.0340 - accuracy: 0.9896 - val_loss: 0.0419 - val_accuracy: 0.9877\n",
      "Epoch 10/10\n",
      "1688/1688 [==============================] - 15s 9ms/step - loss: 0.0310 - accuracy: 0.9904 - val_loss: 0.0450 - val_accuracy: 0.9883\n"
     ]
    },
    {
     "data": {
      "text/plain": [
       "<keras.callbacks.History at 0x13ab1291250>"
      ]
     },
     "execution_count": 115,
     "metadata": {},
     "output_type": "execute_result"
    }
   ],
   "source": [
    "cnn_low.fit(trainX, trainY, batch_size=32, epochs=10, validation_split=0.1)"
   ]
  },
  {
   "cell_type": "code",
   "execution_count": 116,
   "id": "23f5d731",
   "metadata": {},
   "outputs": [
    {
     "name": "stdout",
     "output_type": "stream",
     "text": [
      "[0.03898925334215164, 0.9871000051498413]\n"
     ]
    }
   ],
   "source": [
    "score = cnn_low.evaluate(testX, testY, verbose=0)\n",
    "print(score)"
   ]
  },
  {
   "cell_type": "code",
   "execution_count": 117,
   "id": "18600e55",
   "metadata": {},
   "outputs": [],
   "source": [
    "cnn_high = create_cnn_add(learning_rate=0.1)"
   ]
  },
  {
   "cell_type": "code",
   "execution_count": 118,
   "id": "9b4e7897",
   "metadata": {},
   "outputs": [
    {
     "name": "stdout",
     "output_type": "stream",
     "text": [
      "Epoch 1/10\n",
      "1688/1688 [==============================] - 17s 10ms/step - loss: 0.3498 - accuracy: 0.9074 - val_loss: 0.3094 - val_accuracy: 0.9237\n",
      "Epoch 2/10\n",
      "1688/1688 [==============================] - 15s 9ms/step - loss: 1.4909 - accuracy: 0.4775 - val_loss: 2.3095 - val_accuracy: 0.1000\n",
      "Epoch 3/10\n",
      "1688/1688 [==============================] - 15s 9ms/step - loss: 2.3087 - accuracy: 0.1057 - val_loss: 2.3098 - val_accuracy: 0.0915\n",
      "Epoch 4/10\n",
      "1688/1688 [==============================] - 15s 9ms/step - loss: 2.3078 - accuracy: 0.1077 - val_loss: 2.3054 - val_accuracy: 0.1050\n",
      "Epoch 5/10\n",
      "1688/1688 [==============================] - 15s 9ms/step - loss: 2.3079 - accuracy: 0.1038 - val_loss: 2.3069 - val_accuracy: 0.1050\n",
      "Epoch 6/10\n",
      "1688/1688 [==============================] - 15s 9ms/step - loss: 2.3081 - accuracy: 0.1053 - val_loss: 2.3055 - val_accuracy: 0.0978\n",
      "Epoch 7/10\n",
      "1688/1688 [==============================] - 15s 9ms/step - loss: 2.3084 - accuracy: 0.1046 - val_loss: 2.3153 - val_accuracy: 0.1050\n",
      "Epoch 8/10\n",
      "1688/1688 [==============================] - 15s 9ms/step - loss: 2.3080 - accuracy: 0.1027 - val_loss: 2.3044 - val_accuracy: 0.1045\n",
      "Epoch 9/10\n",
      "1688/1688 [==============================] - 15s 9ms/step - loss: 2.3087 - accuracy: 0.1044 - val_loss: 2.3080 - val_accuracy: 0.1113\n",
      "Epoch 10/10\n",
      "1688/1688 [==============================] - 15s 9ms/step - loss: 2.3086 - accuracy: 0.1035 - val_loss: 2.3160 - val_accuracy: 0.1050\n"
     ]
    },
    {
     "data": {
      "text/plain": [
       "<keras.callbacks.History at 0x13ab078ad30>"
      ]
     },
     "execution_count": 118,
     "metadata": {},
     "output_type": "execute_result"
    }
   ],
   "source": [
    "cnn_high.fit(trainX, trainY, batch_size=32, epochs=10, validation_split=0.1)"
   ]
  },
  {
   "cell_type": "code",
   "execution_count": 120,
   "id": "7dbb3668",
   "metadata": {},
   "outputs": [
    {
     "name": "stdout",
     "output_type": "stream",
     "text": [
      "[2.31148624420166, 0.11349999904632568]\n"
     ]
    }
   ],
   "source": [
    "score = cnn_high.evaluate(testX, testY, verbose=0)\n",
    "print(score)"
   ]
  }
 ],
 "metadata": {
  "kernelspec": {
   "display_name": "Python 3 (ipykernel)",
   "language": "python",
   "name": "python3"
  },
  "language_info": {
   "codemirror_mode": {
    "name": "ipython",
    "version": 3
   },
   "file_extension": ".py",
   "mimetype": "text/x-python",
   "name": "python",
   "nbconvert_exporter": "python",
   "pygments_lexer": "ipython3",
   "version": "3.9.7"
  }
 },
 "nbformat": 4,
 "nbformat_minor": 5
}
